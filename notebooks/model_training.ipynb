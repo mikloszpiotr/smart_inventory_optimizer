{
 "cells": [
  {
   "cell_type": "markdown",
   "id": "3882dcd5",
   "metadata": {},
   "source": [
    "# 📘 Inventory Forecasting & Recommendations - Model Training"
   ]
  },
  {
   "cell_type": "code",
   "execution_count": null,
   "id": "3315838b",
   "metadata": {},
   "outputs": [],
   "source": [
    "import pandas as pd"
   ]
  },
  {
   "cell_type": "code",
   "execution_count": null,
   "id": "be12073e",
   "metadata": {},
   "outputs": [],
   "source": [
    "data = pd.read_csv('../data/sample_inventory_data.csv', parse_dates=['Date'])"
   ]
  },
  {
   "cell_type": "code",
   "execution_count": null,
   "id": "e10d8f79",
   "metadata": {},
   "outputs": [],
   "source": [
    "from utils.forecast_utils import forecast_demand\n",
    "from utils.prophet_utils import prophet_forecast\n",
    "from utils.rl_utils import recommend_inventory_action\n"
   ]
  },
  {
   "cell_type": "code",
   "execution_count": null,
   "id": "72f8c3e9",
   "metadata": {},
   "outputs": [],
   "source": [
    "# Moving Average Forecast\n",
    "avg_forecast = forecast_demand(data)\n",
    "print('Moving Average Forecast:', avg_forecast)"
   ]
  },
  {
   "cell_type": "code",
   "execution_count": null,
   "id": "47643fc4",
   "metadata": {},
   "outputs": [],
   "source": [
    "# Prophet Forecast\n",
    "prophet_forecast_vals = prophet_forecast(data)\n",
    "print('Prophet Forecast:', prophet_forecast_vals)"
   ]
  },
  {
   "cell_type": "code",
   "execution_count": null,
   "id": "d61c9695",
   "metadata": {},
   "outputs": [],
   "source": [
    "# Recommendations\n",
    "current_inventory = data.sort_values('Date').groupby('SKU')['Inventory'].last().to_dict()\n",
    "recs_avg = recommend_inventory_action(current_inventory, avg_forecast)\n",
    "recs_prophet = recommend_inventory_action(current_inventory, prophet_forecast_vals)\n",
    "print('Recs for MA:', recs_avg)\n",
    "print('Recs for Prophet:', recs_prophet)"
   ]
  }
 ],
 "metadata": {},
 "nbformat": 4,
 "nbformat_minor": 5
}
